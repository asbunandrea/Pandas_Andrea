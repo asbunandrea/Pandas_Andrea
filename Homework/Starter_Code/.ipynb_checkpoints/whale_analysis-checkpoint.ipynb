{
 "cells": [
  {
   "cell_type": "markdown",
   "metadata": {},
   "source": [
    " #  A Whale off the Port(folio)\n",
    "\n",
    " In this assignment, you'll get to use what you've learned this week to evaluate the performance among various algorithmic, hedge, and mutual fund portfolios and compare them against the S&P 500."
   ]
  },
  {
   "cell_type": "code",
   "execution_count": 1,
   "metadata": {},
   "outputs": [
    {
     "name": "stderr",
     "output_type": "stream",
     "text": [
      "\n",
      "Bad key \"text.kerning_factor\" on line 4 in\n",
      "C:\\Users\\andre\\anaconda3\\envs\\dev\\lib\\site-packages\\matplotlib\\mpl-data\\stylelib\\_classic_test_patch.mplstyle.\n",
      "You probably need to get an updated matplotlibrc file from\n",
      "http://github.com/matplotlib/matplotlib/blob/master/matplotlibrc.template\n",
      "or from the matplotlib source distribution\n"
     ]
    }
   ],
   "source": [
    "import pandas as pd\n",
    "import numpy as np\n",
    "import datetime as dt\n",
    "from pathlib import Path\n",
    "%matplotlib inline"
   ]
  },
  {
   "cell_type": "markdown",
   "metadata": {},
   "source": [
    "# Data Cleaning\n",
    "\n",
    "In this section, you will need to read the CSV files into DataFrames and perform any necessary data cleaning steps. After cleaning, combine all DataFrames into a single DataFrame.\n",
    "\n",
    "Files:\n",
    "1. whale_returns.csv\n",
    "2. algo_returns.csv\n",
    "3. sp500_history.csv"
   ]
  },
  {
   "cell_type": "markdown",
   "metadata": {},
   "source": [
    "## Whale Returns\n",
    "\n",
    "Read the Whale Portfolio daily returns and clean the data"
   ]
  },
  {
   "cell_type": "code",
   "execution_count": 2,
   "metadata": {},
   "outputs": [
    {
     "data": {
      "text/html": [
       "<div>\n",
       "<style scoped>\n",
       "    .dataframe tbody tr th:only-of-type {\n",
       "        vertical-align: middle;\n",
       "    }\n",
       "\n",
       "    .dataframe tbody tr th {\n",
       "        vertical-align: top;\n",
       "    }\n",
       "\n",
       "    .dataframe thead th {\n",
       "        text-align: right;\n",
       "    }\n",
       "</style>\n",
       "<table border=\"1\" class=\"dataframe\">\n",
       "  <thead>\n",
       "    <tr style=\"text-align: right;\">\n",
       "      <th></th>\n",
       "      <th>SOROS FUND MANAGEMENT LLC</th>\n",
       "      <th>PAULSON &amp; CO.INC.</th>\n",
       "      <th>TIGER GLOBAL MANAGEMENT LLC</th>\n",
       "      <th>BERKSHIRE HATHAWAY INC</th>\n",
       "    </tr>\n",
       "    <tr>\n",
       "      <th>Date</th>\n",
       "      <th></th>\n",
       "      <th></th>\n",
       "      <th></th>\n",
       "      <th></th>\n",
       "    </tr>\n",
       "  </thead>\n",
       "  <tbody>\n",
       "    <tr>\n",
       "      <th>2015-03-02</th>\n",
       "      <td>NaN</td>\n",
       "      <td>NaN</td>\n",
       "      <td>NaN</td>\n",
       "      <td>NaN</td>\n",
       "    </tr>\n",
       "    <tr>\n",
       "      <th>2015-03-03</th>\n",
       "      <td>-0.001266</td>\n",
       "      <td>-0.004981</td>\n",
       "      <td>-0.000496</td>\n",
       "      <td>-0.006569</td>\n",
       "    </tr>\n",
       "    <tr>\n",
       "      <th>2015-03-04</th>\n",
       "      <td>0.002230</td>\n",
       "      <td>0.003241</td>\n",
       "      <td>-0.002534</td>\n",
       "      <td>0.004213</td>\n",
       "    </tr>\n",
       "    <tr>\n",
       "      <th>2015-03-05</th>\n",
       "      <td>0.004016</td>\n",
       "      <td>0.004076</td>\n",
       "      <td>0.002355</td>\n",
       "      <td>0.006726</td>\n",
       "    </tr>\n",
       "    <tr>\n",
       "      <th>2015-03-06</th>\n",
       "      <td>-0.007905</td>\n",
       "      <td>-0.003574</td>\n",
       "      <td>-0.008481</td>\n",
       "      <td>-0.013098</td>\n",
       "    </tr>\n",
       "  </tbody>\n",
       "</table>\n",
       "</div>"
      ],
      "text/plain": [
       "            SOROS FUND MANAGEMENT LLC  PAULSON & CO.INC.   \\\n",
       "Date                                                        \n",
       "2015-03-02                        NaN                 NaN   \n",
       "2015-03-03                  -0.001266           -0.004981   \n",
       "2015-03-04                   0.002230            0.003241   \n",
       "2015-03-05                   0.004016            0.004076   \n",
       "2015-03-06                  -0.007905           -0.003574   \n",
       "\n",
       "            TIGER GLOBAL MANAGEMENT LLC  BERKSHIRE HATHAWAY INC  \n",
       "Date                                                             \n",
       "2015-03-02                          NaN                     NaN  \n",
       "2015-03-03                    -0.000496               -0.006569  \n",
       "2015-03-04                    -0.002534                0.004213  \n",
       "2015-03-05                     0.002355                0.006726  \n",
       "2015-03-06                    -0.008481               -0.013098  "
      ]
     },
     "execution_count": 2,
     "metadata": {},
     "output_type": "execute_result"
    }
   ],
   "source": [
    "# Reading whale returns\n",
    "whale_returns_csv = Path(\"Resources/whale_returns.csv\")\n",
    "# YOUR CODE HERE\n",
    "whale_df = pd.read_csv(whale_returns_csv, index_col=\"Date\", infer_datetime_format=True, parse_dates=True)\n",
    "whale_df.sort_index(inplace=True)\n",
    "whale_df.head()"
   ]
  },
  {
   "cell_type": "code",
   "execution_count": 3,
   "metadata": {},
   "outputs": [
    {
     "data": {
      "text/plain": [
       "SOROS FUND MANAGEMENT LLC      1\n",
       "PAULSON & CO.INC.              1\n",
       "TIGER GLOBAL MANAGEMENT LLC    1\n",
       "BERKSHIRE HATHAWAY INC         1\n",
       "dtype: int64"
      ]
     },
     "execution_count": 3,
     "metadata": {},
     "output_type": "execute_result"
    }
   ],
   "source": [
    "# Count nulls\n",
    "# YOUR CODE HERE\n",
    "whale_df.isnull().sum()"
   ]
  },
  {
   "cell_type": "code",
   "execution_count": 4,
   "metadata": {},
   "outputs": [
    {
     "data": {
      "text/html": [
       "<div>\n",
       "<style scoped>\n",
       "    .dataframe tbody tr th:only-of-type {\n",
       "        vertical-align: middle;\n",
       "    }\n",
       "\n",
       "    .dataframe tbody tr th {\n",
       "        vertical-align: top;\n",
       "    }\n",
       "\n",
       "    .dataframe thead th {\n",
       "        text-align: right;\n",
       "    }\n",
       "</style>\n",
       "<table border=\"1\" class=\"dataframe\">\n",
       "  <thead>\n",
       "    <tr style=\"text-align: right;\">\n",
       "      <th></th>\n",
       "      <th>SOROS FUND MANAGEMENT LLC</th>\n",
       "      <th>PAULSON &amp; CO.INC.</th>\n",
       "      <th>TIGER GLOBAL MANAGEMENT LLC</th>\n",
       "      <th>BERKSHIRE HATHAWAY INC</th>\n",
       "    </tr>\n",
       "    <tr>\n",
       "      <th>Date</th>\n",
       "      <th></th>\n",
       "      <th></th>\n",
       "      <th></th>\n",
       "      <th></th>\n",
       "    </tr>\n",
       "  </thead>\n",
       "  <tbody>\n",
       "    <tr>\n",
       "      <th>2015-03-03</th>\n",
       "      <td>-0.001266</td>\n",
       "      <td>-0.004981</td>\n",
       "      <td>-0.000496</td>\n",
       "      <td>-0.006569</td>\n",
       "    </tr>\n",
       "    <tr>\n",
       "      <th>2015-03-04</th>\n",
       "      <td>0.002230</td>\n",
       "      <td>0.003241</td>\n",
       "      <td>-0.002534</td>\n",
       "      <td>0.004213</td>\n",
       "    </tr>\n",
       "    <tr>\n",
       "      <th>2015-03-05</th>\n",
       "      <td>0.004016</td>\n",
       "      <td>0.004076</td>\n",
       "      <td>0.002355</td>\n",
       "      <td>0.006726</td>\n",
       "    </tr>\n",
       "    <tr>\n",
       "      <th>2015-03-06</th>\n",
       "      <td>-0.007905</td>\n",
       "      <td>-0.003574</td>\n",
       "      <td>-0.008481</td>\n",
       "      <td>-0.013098</td>\n",
       "    </tr>\n",
       "    <tr>\n",
       "      <th>2015-03-09</th>\n",
       "      <td>0.000582</td>\n",
       "      <td>0.004225</td>\n",
       "      <td>0.005843</td>\n",
       "      <td>-0.001652</td>\n",
       "    </tr>\n",
       "  </tbody>\n",
       "</table>\n",
       "</div>"
      ],
      "text/plain": [
       "            SOROS FUND MANAGEMENT LLC  PAULSON & CO.INC.   \\\n",
       "Date                                                        \n",
       "2015-03-03                  -0.001266           -0.004981   \n",
       "2015-03-04                   0.002230            0.003241   \n",
       "2015-03-05                   0.004016            0.004076   \n",
       "2015-03-06                  -0.007905           -0.003574   \n",
       "2015-03-09                   0.000582            0.004225   \n",
       "\n",
       "            TIGER GLOBAL MANAGEMENT LLC  BERKSHIRE HATHAWAY INC  \n",
       "Date                                                             \n",
       "2015-03-03                    -0.000496               -0.006569  \n",
       "2015-03-04                    -0.002534                0.004213  \n",
       "2015-03-05                     0.002355                0.006726  \n",
       "2015-03-06                    -0.008481               -0.013098  \n",
       "2015-03-09                     0.005843               -0.001652  "
      ]
     },
     "execution_count": 4,
     "metadata": {},
     "output_type": "execute_result"
    }
   ],
   "source": [
    "# Drop nulls\n",
    "# YOUR CODE HERE\n",
    "whale_df.dropna(axis=0, how=\"any\", thresh=None, subset=None, inplace=True)\n",
    "whale_df.head()"
   ]
  },
  {
   "cell_type": "markdown",
   "metadata": {},
   "source": [
    "## Algorithmic Daily Returns\n",
    "\n",
    "Read the algorithmic daily returns and clean the data"
   ]
  },
  {
   "cell_type": "code",
   "execution_count": 5,
   "metadata": {},
   "outputs": [
    {
     "data": {
      "text/html": [
       "<div>\n",
       "<style scoped>\n",
       "    .dataframe tbody tr th:only-of-type {\n",
       "        vertical-align: middle;\n",
       "    }\n",
       "\n",
       "    .dataframe tbody tr th {\n",
       "        vertical-align: top;\n",
       "    }\n",
       "\n",
       "    .dataframe thead th {\n",
       "        text-align: right;\n",
       "    }\n",
       "</style>\n",
       "<table border=\"1\" class=\"dataframe\">\n",
       "  <thead>\n",
       "    <tr style=\"text-align: right;\">\n",
       "      <th></th>\n",
       "      <th>Algo 1</th>\n",
       "      <th>Algo 2</th>\n",
       "    </tr>\n",
       "    <tr>\n",
       "      <th>Date</th>\n",
       "      <th></th>\n",
       "      <th></th>\n",
       "    </tr>\n",
       "  </thead>\n",
       "  <tbody>\n",
       "    <tr>\n",
       "      <th>2014-05-28</th>\n",
       "      <td>0.001745</td>\n",
       "      <td>NaN</td>\n",
       "    </tr>\n",
       "    <tr>\n",
       "      <th>2014-05-29</th>\n",
       "      <td>0.003978</td>\n",
       "      <td>NaN</td>\n",
       "    </tr>\n",
       "    <tr>\n",
       "      <th>2014-05-30</th>\n",
       "      <td>0.004464</td>\n",
       "      <td>NaN</td>\n",
       "    </tr>\n",
       "    <tr>\n",
       "      <th>2014-06-02</th>\n",
       "      <td>0.005692</td>\n",
       "      <td>NaN</td>\n",
       "    </tr>\n",
       "    <tr>\n",
       "      <th>2014-06-03</th>\n",
       "      <td>0.005292</td>\n",
       "      <td>NaN</td>\n",
       "    </tr>\n",
       "  </tbody>\n",
       "</table>\n",
       "</div>"
      ],
      "text/plain": [
       "              Algo 1  Algo 2\n",
       "Date                        \n",
       "2014-05-28  0.001745     NaN\n",
       "2014-05-29  0.003978     NaN\n",
       "2014-05-30  0.004464     NaN\n",
       "2014-06-02  0.005692     NaN\n",
       "2014-06-03  0.005292     NaN"
      ]
     },
     "execution_count": 5,
     "metadata": {},
     "output_type": "execute_result"
    }
   ],
   "source": [
    "# Reading algorithmic returns\n",
    "algo_returns_csv = Path(\"Resources/algo_returns.csv\")\n",
    "# YOUR CODE HERE\n",
    "algo_df = pd.read_csv(algo_returns_csv, index_col=\"Date\", infer_datetime_format=True, parse_dates=True)\n",
    "algo_df.sort_index(inplace=True)\n",
    "algo_df.head()"
   ]
  },
  {
   "cell_type": "code",
   "execution_count": 6,
   "metadata": {},
   "outputs": [
    {
     "data": {
      "text/plain": [
       "Algo 1    0\n",
       "Algo 2    6\n",
       "dtype: int64"
      ]
     },
     "execution_count": 6,
     "metadata": {},
     "output_type": "execute_result"
    }
   ],
   "source": [
    "# Count nulls\n",
    "# YOUR CODE HERE\n",
    "count_nan = len(algo_df) - algo_df.count()\n",
    "count_nan"
   ]
  },
  {
   "cell_type": "code",
   "execution_count": 7,
   "metadata": {},
   "outputs": [
    {
     "data": {
      "text/html": [
       "<div>\n",
       "<style scoped>\n",
       "    .dataframe tbody tr th:only-of-type {\n",
       "        vertical-align: middle;\n",
       "    }\n",
       "\n",
       "    .dataframe tbody tr th {\n",
       "        vertical-align: top;\n",
       "    }\n",
       "\n",
       "    .dataframe thead th {\n",
       "        text-align: right;\n",
       "    }\n",
       "</style>\n",
       "<table border=\"1\" class=\"dataframe\">\n",
       "  <thead>\n",
       "    <tr style=\"text-align: right;\">\n",
       "      <th></th>\n",
       "      <th>Algo 1</th>\n",
       "      <th>Algo 2</th>\n",
       "    </tr>\n",
       "    <tr>\n",
       "      <th>Date</th>\n",
       "      <th></th>\n",
       "      <th></th>\n",
       "    </tr>\n",
       "  </thead>\n",
       "  <tbody>\n",
       "    <tr>\n",
       "      <th>2014-06-05</th>\n",
       "      <td>0.004062</td>\n",
       "      <td>0.013285</td>\n",
       "    </tr>\n",
       "    <tr>\n",
       "      <th>2014-06-06</th>\n",
       "      <td>0.001857</td>\n",
       "      <td>0.008284</td>\n",
       "    </tr>\n",
       "    <tr>\n",
       "      <th>2014-06-09</th>\n",
       "      <td>-0.005012</td>\n",
       "      <td>0.005668</td>\n",
       "    </tr>\n",
       "    <tr>\n",
       "      <th>2014-06-10</th>\n",
       "      <td>0.004406</td>\n",
       "      <td>-0.000735</td>\n",
       "    </tr>\n",
       "    <tr>\n",
       "      <th>2014-06-11</th>\n",
       "      <td>0.004760</td>\n",
       "      <td>-0.003761</td>\n",
       "    </tr>\n",
       "    <tr>\n",
       "      <th>2014-06-12</th>\n",
       "      <td>-0.000028</td>\n",
       "      <td>-0.003841</td>\n",
       "    </tr>\n",
       "    <tr>\n",
       "      <th>2014-06-13</th>\n",
       "      <td>0.001917</td>\n",
       "      <td>-0.000814</td>\n",
       "    </tr>\n",
       "    <tr>\n",
       "      <th>2014-06-16</th>\n",
       "      <td>0.001084</td>\n",
       "      <td>0.001831</td>\n",
       "    </tr>\n",
       "    <tr>\n",
       "      <th>2014-06-17</th>\n",
       "      <td>0.000922</td>\n",
       "      <td>0.006870</td>\n",
       "    </tr>\n",
       "    <tr>\n",
       "      <th>2014-06-18</th>\n",
       "      <td>-0.006303</td>\n",
       "      <td>0.007228</td>\n",
       "    </tr>\n",
       "    <tr>\n",
       "      <th>2014-06-19</th>\n",
       "      <td>-0.000853</td>\n",
       "      <td>0.003989</td>\n",
       "    </tr>\n",
       "    <tr>\n",
       "      <th>2014-06-20</th>\n",
       "      <td>0.006398</td>\n",
       "      <td>0.003928</td>\n",
       "    </tr>\n",
       "    <tr>\n",
       "      <th>2014-06-23</th>\n",
       "      <td>-0.004532</td>\n",
       "      <td>-0.000615</td>\n",
       "    </tr>\n",
       "    <tr>\n",
       "      <th>2014-06-24</th>\n",
       "      <td>0.011861</td>\n",
       "      <td>-0.009389</td>\n",
       "    </tr>\n",
       "    <tr>\n",
       "      <th>2014-06-25</th>\n",
       "      <td>-0.001321</td>\n",
       "      <td>0.006322</td>\n",
       "    </tr>\n",
       "    <tr>\n",
       "      <th>2014-06-26</th>\n",
       "      <td>-0.000213</td>\n",
       "      <td>-0.000334</td>\n",
       "    </tr>\n",
       "    <tr>\n",
       "      <th>2014-06-27</th>\n",
       "      <td>0.007136</td>\n",
       "      <td>0.004595</td>\n",
       "    </tr>\n",
       "    <tr>\n",
       "      <th>2014-06-30</th>\n",
       "      <td>-0.001584</td>\n",
       "      <td>0.005242</td>\n",
       "    </tr>\n",
       "    <tr>\n",
       "      <th>2014-07-01</th>\n",
       "      <td>0.001817</td>\n",
       "      <td>0.007710</td>\n",
       "    </tr>\n",
       "    <tr>\n",
       "      <th>2014-07-02</th>\n",
       "      <td>0.003300</td>\n",
       "      <td>-0.002834</td>\n",
       "    </tr>\n",
       "    <tr>\n",
       "      <th>2014-07-03</th>\n",
       "      <td>0.001358</td>\n",
       "      <td>0.003125</td>\n",
       "    </tr>\n",
       "    <tr>\n",
       "      <th>2014-07-07</th>\n",
       "      <td>0.002782</td>\n",
       "      <td>-0.012258</td>\n",
       "    </tr>\n",
       "    <tr>\n",
       "      <th>2014-07-08</th>\n",
       "      <td>0.002488</td>\n",
       "      <td>-0.010457</td>\n",
       "    </tr>\n",
       "    <tr>\n",
       "      <th>2014-07-09</th>\n",
       "      <td>-0.001881</td>\n",
       "      <td>0.004427</td>\n",
       "    </tr>\n",
       "    <tr>\n",
       "      <th>2014-07-10</th>\n",
       "      <td>-0.001153</td>\n",
       "      <td>-0.011214</td>\n",
       "    </tr>\n",
       "    <tr>\n",
       "      <th>2014-07-11</th>\n",
       "      <td>-0.000366</td>\n",
       "      <td>0.002780</td>\n",
       "    </tr>\n",
       "    <tr>\n",
       "      <th>2014-07-14</th>\n",
       "      <td>0.004460</td>\n",
       "      <td>0.004614</td>\n",
       "    </tr>\n",
       "    <tr>\n",
       "      <th>2014-07-15</th>\n",
       "      <td>-0.002106</td>\n",
       "      <td>-0.007799</td>\n",
       "    </tr>\n",
       "    <tr>\n",
       "      <th>2014-07-16</th>\n",
       "      <td>-0.003186</td>\n",
       "      <td>0.000109</td>\n",
       "    </tr>\n",
       "    <tr>\n",
       "      <th>2014-07-17</th>\n",
       "      <td>-0.009030</td>\n",
       "      <td>-0.008056</td>\n",
       "    </tr>\n",
       "    <tr>\n",
       "      <th>...</th>\n",
       "      <td>...</td>\n",
       "      <td>...</td>\n",
       "    </tr>\n",
       "    <tr>\n",
       "      <th>2019-03-20</th>\n",
       "      <td>-0.009167</td>\n",
       "      <td>0.001009</td>\n",
       "    </tr>\n",
       "    <tr>\n",
       "      <th>2019-03-21</th>\n",
       "      <td>0.000035</td>\n",
       "      <td>0.004714</td>\n",
       "    </tr>\n",
       "    <tr>\n",
       "      <th>2019-03-22</th>\n",
       "      <td>0.002514</td>\n",
       "      <td>-0.020949</td>\n",
       "    </tr>\n",
       "    <tr>\n",
       "      <th>2019-03-25</th>\n",
       "      <td>0.000973</td>\n",
       "      <td>-0.002058</td>\n",
       "    </tr>\n",
       "    <tr>\n",
       "      <th>2019-03-26</th>\n",
       "      <td>0.005455</td>\n",
       "      <td>0.005614</td>\n",
       "    </tr>\n",
       "    <tr>\n",
       "      <th>2019-03-27</th>\n",
       "      <td>0.008395</td>\n",
       "      <td>-0.004457</td>\n",
       "    </tr>\n",
       "    <tr>\n",
       "      <th>2019-03-28</th>\n",
       "      <td>0.009932</td>\n",
       "      <td>0.005775</td>\n",
       "    </tr>\n",
       "    <tr>\n",
       "      <th>2019-03-29</th>\n",
       "      <td>-0.000868</td>\n",
       "      <td>0.004576</td>\n",
       "    </tr>\n",
       "    <tr>\n",
       "      <th>2019-04-01</th>\n",
       "      <td>0.008159</td>\n",
       "      <td>0.007257</td>\n",
       "    </tr>\n",
       "    <tr>\n",
       "      <th>2019-04-02</th>\n",
       "      <td>0.003776</td>\n",
       "      <td>-0.000413</td>\n",
       "    </tr>\n",
       "    <tr>\n",
       "      <th>2019-04-03</th>\n",
       "      <td>-0.003337</td>\n",
       "      <td>0.000287</td>\n",
       "    </tr>\n",
       "    <tr>\n",
       "      <th>2019-04-04</th>\n",
       "      <td>-0.003597</td>\n",
       "      <td>0.003265</td>\n",
       "    </tr>\n",
       "    <tr>\n",
       "      <th>2019-04-05</th>\n",
       "      <td>0.001519</td>\n",
       "      <td>0.009306</td>\n",
       "    </tr>\n",
       "    <tr>\n",
       "      <th>2019-04-08</th>\n",
       "      <td>0.003761</td>\n",
       "      <td>0.000218</td>\n",
       "    </tr>\n",
       "    <tr>\n",
       "      <th>2019-04-09</th>\n",
       "      <td>0.012012</td>\n",
       "      <td>-0.011639</td>\n",
       "    </tr>\n",
       "    <tr>\n",
       "      <th>2019-04-10</th>\n",
       "      <td>-0.004221</td>\n",
       "      <td>0.009632</td>\n",
       "    </tr>\n",
       "    <tr>\n",
       "      <th>2019-04-11</th>\n",
       "      <td>0.001705</td>\n",
       "      <td>-0.001568</td>\n",
       "    </tr>\n",
       "    <tr>\n",
       "      <th>2019-04-12</th>\n",
       "      <td>-0.005501</td>\n",
       "      <td>0.004504</td>\n",
       "    </tr>\n",
       "    <tr>\n",
       "      <th>2019-04-15</th>\n",
       "      <td>-0.004331</td>\n",
       "      <td>-0.004572</td>\n",
       "    </tr>\n",
       "    <tr>\n",
       "      <th>2019-04-16</th>\n",
       "      <td>-0.006945</td>\n",
       "      <td>0.002899</td>\n",
       "    </tr>\n",
       "    <tr>\n",
       "      <th>2019-04-17</th>\n",
       "      <td>-0.010301</td>\n",
       "      <td>-0.005228</td>\n",
       "    </tr>\n",
       "    <tr>\n",
       "      <th>2019-04-18</th>\n",
       "      <td>-0.000588</td>\n",
       "      <td>-0.001229</td>\n",
       "    </tr>\n",
       "    <tr>\n",
       "      <th>2019-04-22</th>\n",
       "      <td>0.000677</td>\n",
       "      <td>-0.001936</td>\n",
       "    </tr>\n",
       "    <tr>\n",
       "      <th>2019-04-23</th>\n",
       "      <td>0.004969</td>\n",
       "      <td>0.009622</td>\n",
       "    </tr>\n",
       "    <tr>\n",
       "      <th>2019-04-24</th>\n",
       "      <td>0.001095</td>\n",
       "      <td>0.000399</td>\n",
       "    </tr>\n",
       "    <tr>\n",
       "      <th>2019-04-25</th>\n",
       "      <td>0.000682</td>\n",
       "      <td>-0.007247</td>\n",
       "    </tr>\n",
       "    <tr>\n",
       "      <th>2019-04-26</th>\n",
       "      <td>0.002981</td>\n",
       "      <td>0.005256</td>\n",
       "    </tr>\n",
       "    <tr>\n",
       "      <th>2019-04-29</th>\n",
       "      <td>0.005208</td>\n",
       "      <td>0.002829</td>\n",
       "    </tr>\n",
       "    <tr>\n",
       "      <th>2019-04-30</th>\n",
       "      <td>-0.002944</td>\n",
       "      <td>-0.001570</td>\n",
       "    </tr>\n",
       "    <tr>\n",
       "      <th>2019-05-01</th>\n",
       "      <td>0.000094</td>\n",
       "      <td>-0.007358</td>\n",
       "    </tr>\n",
       "  </tbody>\n",
       "</table>\n",
       "<p>1235 rows × 2 columns</p>\n",
       "</div>"
      ],
      "text/plain": [
       "              Algo 1    Algo 2\n",
       "Date                          \n",
       "2014-06-05  0.004062  0.013285\n",
       "2014-06-06  0.001857  0.008284\n",
       "2014-06-09 -0.005012  0.005668\n",
       "2014-06-10  0.004406 -0.000735\n",
       "2014-06-11  0.004760 -0.003761\n",
       "2014-06-12 -0.000028 -0.003841\n",
       "2014-06-13  0.001917 -0.000814\n",
       "2014-06-16  0.001084  0.001831\n",
       "2014-06-17  0.000922  0.006870\n",
       "2014-06-18 -0.006303  0.007228\n",
       "2014-06-19 -0.000853  0.003989\n",
       "2014-06-20  0.006398  0.003928\n",
       "2014-06-23 -0.004532 -0.000615\n",
       "2014-06-24  0.011861 -0.009389\n",
       "2014-06-25 -0.001321  0.006322\n",
       "2014-06-26 -0.000213 -0.000334\n",
       "2014-06-27  0.007136  0.004595\n",
       "2014-06-30 -0.001584  0.005242\n",
       "2014-07-01  0.001817  0.007710\n",
       "2014-07-02  0.003300 -0.002834\n",
       "2014-07-03  0.001358  0.003125\n",
       "2014-07-07  0.002782 -0.012258\n",
       "2014-07-08  0.002488 -0.010457\n",
       "2014-07-09 -0.001881  0.004427\n",
       "2014-07-10 -0.001153 -0.011214\n",
       "2014-07-11 -0.000366  0.002780\n",
       "2014-07-14  0.004460  0.004614\n",
       "2014-07-15 -0.002106 -0.007799\n",
       "2014-07-16 -0.003186  0.000109\n",
       "2014-07-17 -0.009030 -0.008056\n",
       "...              ...       ...\n",
       "2019-03-20 -0.009167  0.001009\n",
       "2019-03-21  0.000035  0.004714\n",
       "2019-03-22  0.002514 -0.020949\n",
       "2019-03-25  0.000973 -0.002058\n",
       "2019-03-26  0.005455  0.005614\n",
       "2019-03-27  0.008395 -0.004457\n",
       "2019-03-28  0.009932  0.005775\n",
       "2019-03-29 -0.000868  0.004576\n",
       "2019-04-01  0.008159  0.007257\n",
       "2019-04-02  0.003776 -0.000413\n",
       "2019-04-03 -0.003337  0.000287\n",
       "2019-04-04 -0.003597  0.003265\n",
       "2019-04-05  0.001519  0.009306\n",
       "2019-04-08  0.003761  0.000218\n",
       "2019-04-09  0.012012 -0.011639\n",
       "2019-04-10 -0.004221  0.009632\n",
       "2019-04-11  0.001705 -0.001568\n",
       "2019-04-12 -0.005501  0.004504\n",
       "2019-04-15 -0.004331 -0.004572\n",
       "2019-04-16 -0.006945  0.002899\n",
       "2019-04-17 -0.010301 -0.005228\n",
       "2019-04-18 -0.000588 -0.001229\n",
       "2019-04-22  0.000677 -0.001936\n",
       "2019-04-23  0.004969  0.009622\n",
       "2019-04-24  0.001095  0.000399\n",
       "2019-04-25  0.000682 -0.007247\n",
       "2019-04-26  0.002981  0.005256\n",
       "2019-04-29  0.005208  0.002829\n",
       "2019-04-30 -0.002944 -0.001570\n",
       "2019-05-01  0.000094 -0.007358\n",
       "\n",
       "[1235 rows x 2 columns]"
      ]
     },
     "execution_count": 7,
     "metadata": {},
     "output_type": "execute_result"
    }
   ],
   "source": [
    "# Drop nulls\n",
    "# YOUR CODE HERE\n",
    "algo_df.dropna(axis=0, how=\"any\", thresh=None, subset=None, inplace=False)\n",
    "#algo_df = algo_df.dropna(inplace=True)\n",
    "#algo_df.head()"
   ]
  },
  {
   "cell_type": "markdown",
   "metadata": {},
   "source": [
    "## S&P 500 Returns\n",
    "\n",
    "Read the S&P500 Historic Closing Prices and create a new daily returns DataFrame from the data. "
   ]
  },
  {
   "cell_type": "code",
   "execution_count": 8,
   "metadata": {},
   "outputs": [
    {
     "data": {
      "text/html": [
       "<div>\n",
       "<style scoped>\n",
       "    .dataframe tbody tr th:only-of-type {\n",
       "        vertical-align: middle;\n",
       "    }\n",
       "\n",
       "    .dataframe tbody tr th {\n",
       "        vertical-align: top;\n",
       "    }\n",
       "\n",
       "    .dataframe thead th {\n",
       "        text-align: right;\n",
       "    }\n",
       "</style>\n",
       "<table border=\"1\" class=\"dataframe\">\n",
       "  <thead>\n",
       "    <tr style=\"text-align: right;\">\n",
       "      <th></th>\n",
       "      <th>Close</th>\n",
       "    </tr>\n",
       "    <tr>\n",
       "      <th>Date</th>\n",
       "      <th></th>\n",
       "    </tr>\n",
       "  </thead>\n",
       "  <tbody>\n",
       "    <tr>\n",
       "      <th>2012-10-01</th>\n",
       "      <td>$1444.49</td>\n",
       "    </tr>\n",
       "    <tr>\n",
       "      <th>2012-10-02</th>\n",
       "      <td>$1445.75</td>\n",
       "    </tr>\n",
       "    <tr>\n",
       "      <th>2012-10-03</th>\n",
       "      <td>$1450.99</td>\n",
       "    </tr>\n",
       "    <tr>\n",
       "      <th>2012-10-04</th>\n",
       "      <td>$1461.40</td>\n",
       "    </tr>\n",
       "    <tr>\n",
       "      <th>2012-10-05</th>\n",
       "      <td>$1460.93</td>\n",
       "    </tr>\n",
       "  </tbody>\n",
       "</table>\n",
       "</div>"
      ],
      "text/plain": [
       "               Close\n",
       "Date                \n",
       "2012-10-01  $1444.49\n",
       "2012-10-02  $1445.75\n",
       "2012-10-03  $1450.99\n",
       "2012-10-04  $1461.40\n",
       "2012-10-05  $1460.93"
      ]
     },
     "execution_count": 8,
     "metadata": {},
     "output_type": "execute_result"
    }
   ],
   "source": [
    "# Reading S&P 500 Closing Prices\n",
    "sp500_history_csv = Path(\"Resources/sp500_history.csv\")\n",
    "# YOUR CODE HERE\n",
    "sp500_df = pd.read_csv(sp500_history_csv, index_col=\"Date\", infer_datetime_format=True, parse_dates=True)\n",
    "sp500_df.sort_index(inplace=True)\n",
    "sp500_df.head()"
   ]
  },
  {
   "cell_type": "code",
   "execution_count": 9,
   "metadata": {},
   "outputs": [
    {
     "data": {
      "text/plain": [
       "Close    object\n",
       "dtype: object"
      ]
     },
     "execution_count": 9,
     "metadata": {},
     "output_type": "execute_result"
    }
   ],
   "source": [
    "# Check Data Types\n",
    "# YOUR CODE HERE\n",
    "sp500_df.dtypes"
   ]
  },
  {
   "cell_type": "code",
   "execution_count": 10,
   "metadata": {},
   "outputs": [
    {
     "data": {
      "text/plain": [
       "Close    float64\n",
       "dtype: object"
      ]
     },
     "execution_count": 10,
     "metadata": {},
     "output_type": "execute_result"
    }
   ],
   "source": [
    "# Fix Data Types\n",
    "# YOUR CODE HERE\n",
    "sp500_df['Close'] = sp500_df['Close'].str.replace(\"$\", \"\")\n",
    "sp500_df['Close'] = sp500_df['Close'].str.replace(\",\", \"\")\n",
    "sp500_df['Close'] = sp500_df['Close'].astype(\"float\")\n",
    "sp500_df.dtypes"
   ]
  },
  {
   "cell_type": "code",
   "execution_count": 11,
   "metadata": {},
   "outputs": [
    {
     "data": {
      "text/html": [
       "<div>\n",
       "<style scoped>\n",
       "    .dataframe tbody tr th:only-of-type {\n",
       "        vertical-align: middle;\n",
       "    }\n",
       "\n",
       "    .dataframe tbody tr th {\n",
       "        vertical-align: top;\n",
       "    }\n",
       "\n",
       "    .dataframe thead th {\n",
       "        text-align: right;\n",
       "    }\n",
       "</style>\n",
       "<table border=\"1\" class=\"dataframe\">\n",
       "  <thead>\n",
       "    <tr style=\"text-align: right;\">\n",
       "      <th></th>\n",
       "      <th>Close</th>\n",
       "    </tr>\n",
       "    <tr>\n",
       "      <th>Date</th>\n",
       "      <th></th>\n",
       "    </tr>\n",
       "  </thead>\n",
       "  <tbody>\n",
       "    <tr>\n",
       "      <th>2012-10-01</th>\n",
       "      <td>NaN</td>\n",
       "    </tr>\n",
       "    <tr>\n",
       "      <th>2012-10-02</th>\n",
       "      <td>0.000872</td>\n",
       "    </tr>\n",
       "    <tr>\n",
       "      <th>2012-10-03</th>\n",
       "      <td>0.003624</td>\n",
       "    </tr>\n",
       "    <tr>\n",
       "      <th>2012-10-04</th>\n",
       "      <td>0.007174</td>\n",
       "    </tr>\n",
       "    <tr>\n",
       "      <th>2012-10-05</th>\n",
       "      <td>-0.000322</td>\n",
       "    </tr>\n",
       "  </tbody>\n",
       "</table>\n",
       "</div>"
      ],
      "text/plain": [
       "               Close\n",
       "Date                \n",
       "2012-10-01       NaN\n",
       "2012-10-02  0.000872\n",
       "2012-10-03  0.003624\n",
       "2012-10-04  0.007174\n",
       "2012-10-05 -0.000322"
      ]
     },
     "execution_count": 11,
     "metadata": {},
     "output_type": "execute_result"
    }
   ],
   "source": [
    "# Calculate Daily Returns\n",
    "# YOUR CODE HERE\n",
    "SP500_daily_returns = sp500_df.pct_change()\n",
    "SP500_daily_returns.head()"
   ]
  },
  {
   "cell_type": "code",
   "execution_count": 12,
   "metadata": {},
   "outputs": [
    {
     "data": {
      "text/html": [
       "<div>\n",
       "<style scoped>\n",
       "    .dataframe tbody tr th:only-of-type {\n",
       "        vertical-align: middle;\n",
       "    }\n",
       "\n",
       "    .dataframe tbody tr th {\n",
       "        vertical-align: top;\n",
       "    }\n",
       "\n",
       "    .dataframe thead th {\n",
       "        text-align: right;\n",
       "    }\n",
       "</style>\n",
       "<table border=\"1\" class=\"dataframe\">\n",
       "  <thead>\n",
       "    <tr style=\"text-align: right;\">\n",
       "      <th></th>\n",
       "      <th>Close</th>\n",
       "    </tr>\n",
       "    <tr>\n",
       "      <th>Date</th>\n",
       "      <th></th>\n",
       "    </tr>\n",
       "  </thead>\n",
       "  <tbody>\n",
       "    <tr>\n",
       "      <th>2012-10-01</th>\n",
       "      <td>1444.49</td>\n",
       "    </tr>\n",
       "    <tr>\n",
       "      <th>2012-10-02</th>\n",
       "      <td>1445.75</td>\n",
       "    </tr>\n",
       "    <tr>\n",
       "      <th>2012-10-03</th>\n",
       "      <td>1450.99</td>\n",
       "    </tr>\n",
       "    <tr>\n",
       "      <th>2012-10-04</th>\n",
       "      <td>1461.40</td>\n",
       "    </tr>\n",
       "    <tr>\n",
       "      <th>2012-10-05</th>\n",
       "      <td>1460.93</td>\n",
       "    </tr>\n",
       "  </tbody>\n",
       "</table>\n",
       "</div>"
      ],
      "text/plain": [
       "              Close\n",
       "Date               \n",
       "2012-10-01  1444.49\n",
       "2012-10-02  1445.75\n",
       "2012-10-03  1450.99\n",
       "2012-10-04  1461.40\n",
       "2012-10-05  1460.93"
      ]
     },
     "execution_count": 12,
     "metadata": {},
     "output_type": "execute_result"
    }
   ],
   "source": [
    "# Drop nulls\n",
    "# YOUR CODE HERE\n",
    "SP500_daily_returns = sp500_df.dropna()\n",
    "SP500_daily_returns.head()"
   ]
  },
  {
   "cell_type": "code",
   "execution_count": 13,
   "metadata": {},
   "outputs": [
    {
     "data": {
      "text/html": [
       "<div>\n",
       "<style scoped>\n",
       "    .dataframe tbody tr th:only-of-type {\n",
       "        vertical-align: middle;\n",
       "    }\n",
       "\n",
       "    .dataframe tbody tr th {\n",
       "        vertical-align: top;\n",
       "    }\n",
       "\n",
       "    .dataframe thead th {\n",
       "        text-align: right;\n",
       "    }\n",
       "</style>\n",
       "<table border=\"1\" class=\"dataframe\">\n",
       "  <thead>\n",
       "    <tr style=\"text-align: right;\">\n",
       "      <th></th>\n",
       "      <th>SP500</th>\n",
       "    </tr>\n",
       "    <tr>\n",
       "      <th>Date</th>\n",
       "      <th></th>\n",
       "    </tr>\n",
       "  </thead>\n",
       "  <tbody>\n",
       "    <tr>\n",
       "      <th>2012-10-01</th>\n",
       "      <td>1444.49</td>\n",
       "    </tr>\n",
       "    <tr>\n",
       "      <th>2012-10-02</th>\n",
       "      <td>1445.75</td>\n",
       "    </tr>\n",
       "    <tr>\n",
       "      <th>2012-10-03</th>\n",
       "      <td>1450.99</td>\n",
       "    </tr>\n",
       "    <tr>\n",
       "      <th>2012-10-04</th>\n",
       "      <td>1461.40</td>\n",
       "    </tr>\n",
       "    <tr>\n",
       "      <th>2012-10-05</th>\n",
       "      <td>1460.93</td>\n",
       "    </tr>\n",
       "  </tbody>\n",
       "</table>\n",
       "</div>"
      ],
      "text/plain": [
       "              SP500\n",
       "Date               \n",
       "2012-10-01  1444.49\n",
       "2012-10-02  1445.75\n",
       "2012-10-03  1450.99\n",
       "2012-10-04  1461.40\n",
       "2012-10-05  1460.93"
      ]
     },
     "execution_count": 13,
     "metadata": {},
     "output_type": "execute_result"
    }
   ],
   "source": [
    "# Rename Column\n",
    "# YOUR CODE HERE\n",
    "SP500_daily_returns = SP500_daily_returns.rename(columns={\"Close\":\"SP500\"})\n",
    "SP500_daily_returns.head()"
   ]
  },
  {
   "cell_type": "markdown",
   "metadata": {},
   "source": [
    "## Combine Whale, Algorithmic, and S&P 500 Returns"
   ]
  },
  {
   "cell_type": "code",
   "execution_count": 19,
   "metadata": {},
   "outputs": [
    {
     "data": {
      "text/html": [
       "<div>\n",
       "<style scoped>\n",
       "    .dataframe tbody tr th:only-of-type {\n",
       "        vertical-align: middle;\n",
       "    }\n",
       "\n",
       "    .dataframe tbody tr th {\n",
       "        vertical-align: top;\n",
       "    }\n",
       "\n",
       "    .dataframe thead th {\n",
       "        text-align: right;\n",
       "    }\n",
       "</style>\n",
       "<table border=\"1\" class=\"dataframe\">\n",
       "  <thead>\n",
       "    <tr style=\"text-align: right;\">\n",
       "      <th></th>\n",
       "      <th>SOROS FUND MANAGEMENT LLC</th>\n",
       "      <th>PAULSON &amp; CO.INC.</th>\n",
       "      <th>TIGER GLOBAL MANAGEMENT LLC</th>\n",
       "      <th>BERKSHIRE HATHAWAY INC</th>\n",
       "      <th>Algo 1</th>\n",
       "      <th>Algo 2</th>\n",
       "      <th>SP500</th>\n",
       "    </tr>\n",
       "    <tr>\n",
       "      <th>Date</th>\n",
       "      <th></th>\n",
       "      <th></th>\n",
       "      <th></th>\n",
       "      <th></th>\n",
       "      <th></th>\n",
       "      <th></th>\n",
       "      <th></th>\n",
       "    </tr>\n",
       "  </thead>\n",
       "  <tbody>\n",
       "    <tr>\n",
       "      <th>2015-03-03</th>\n",
       "      <td>-0.001266</td>\n",
       "      <td>-0.004981</td>\n",
       "      <td>-0.000496</td>\n",
       "      <td>-0.006569</td>\n",
       "      <td>-0.001942</td>\n",
       "      <td>-0.000949</td>\n",
       "      <td>2107.78</td>\n",
       "    </tr>\n",
       "    <tr>\n",
       "      <th>2015-03-04</th>\n",
       "      <td>0.002230</td>\n",
       "      <td>0.003241</td>\n",
       "      <td>-0.002534</td>\n",
       "      <td>0.004213</td>\n",
       "      <td>-0.008589</td>\n",
       "      <td>0.002416</td>\n",
       "      <td>2098.53</td>\n",
       "    </tr>\n",
       "    <tr>\n",
       "      <th>2015-03-05</th>\n",
       "      <td>0.004016</td>\n",
       "      <td>0.004076</td>\n",
       "      <td>0.002355</td>\n",
       "      <td>0.006726</td>\n",
       "      <td>-0.000955</td>\n",
       "      <td>0.004323</td>\n",
       "      <td>2101.04</td>\n",
       "    </tr>\n",
       "    <tr>\n",
       "      <th>2015-03-06</th>\n",
       "      <td>-0.007905</td>\n",
       "      <td>-0.003574</td>\n",
       "      <td>-0.008481</td>\n",
       "      <td>-0.013098</td>\n",
       "      <td>-0.004957</td>\n",
       "      <td>-0.011460</td>\n",
       "      <td>2071.26</td>\n",
       "    </tr>\n",
       "    <tr>\n",
       "      <th>2015-03-09</th>\n",
       "      <td>0.000582</td>\n",
       "      <td>0.004225</td>\n",
       "      <td>0.005843</td>\n",
       "      <td>-0.001652</td>\n",
       "      <td>-0.005447</td>\n",
       "      <td>0.001303</td>\n",
       "      <td>2079.43</td>\n",
       "    </tr>\n",
       "  </tbody>\n",
       "</table>\n",
       "</div>"
      ],
      "text/plain": [
       "            SOROS FUND MANAGEMENT LLC  PAULSON & CO.INC.   \\\n",
       "Date                                                        \n",
       "2015-03-03                  -0.001266           -0.004981   \n",
       "2015-03-04                   0.002230            0.003241   \n",
       "2015-03-05                   0.004016            0.004076   \n",
       "2015-03-06                  -0.007905           -0.003574   \n",
       "2015-03-09                   0.000582            0.004225   \n",
       "\n",
       "            TIGER GLOBAL MANAGEMENT LLC  BERKSHIRE HATHAWAY INC    Algo 1  \\\n",
       "Date                                                                        \n",
       "2015-03-03                    -0.000496               -0.006569 -0.001942   \n",
       "2015-03-04                    -0.002534                0.004213 -0.008589   \n",
       "2015-03-05                     0.002355                0.006726 -0.000955   \n",
       "2015-03-06                    -0.008481               -0.013098 -0.004957   \n",
       "2015-03-09                     0.005843               -0.001652 -0.005447   \n",
       "\n",
       "              Algo 2    SP500  \n",
       "Date                           \n",
       "2015-03-03 -0.000949  2107.78  \n",
       "2015-03-04  0.002416  2098.53  \n",
       "2015-03-05  0.004323  2101.04  \n",
       "2015-03-06 -0.011460  2071.26  \n",
       "2015-03-09  0.001303  2079.43  "
      ]
     },
     "execution_count": 19,
     "metadata": {},
     "output_type": "execute_result"
    }
   ],
   "source": [
    "# Concatenate all DataFrames into a single DataFrame\n",
    "# YOUR CODE HERE\n",
    "concat_df = pd.concat([whale_df, algo_df, SP500_daily_returns], axis=\"columns\", join=\"inner\")\n",
    "concat_df.head()"
   ]
  },
  {
   "cell_type": "markdown",
   "metadata": {},
   "source": [
    "---"
   ]
  },
  {
   "cell_type": "markdown",
   "metadata": {},
   "source": [
    "# Portfolio Analysis\n",
    "\n",
    "In this section, you will calculate and visualize performance and risk metrics for the portfolios."
   ]
  },
  {
   "cell_type": "markdown",
   "metadata": {},
   "source": [
    "## Performance\n",
    "\n",
    "Calculate and Plot the daily returns and cumulative returns. Does any portfolio outperform the S&P 500? "
   ]
  },
  {
   "cell_type": "code",
   "execution_count": 20,
   "metadata": {},
   "outputs": [
    {
     "data": {
      "text/plain": [
       "<matplotlib.axes._subplots.AxesSubplot at 0x2abf4771388>"
      ]
     },
     "execution_count": 20,
     "metadata": {},
     "output_type": "execute_result"
    },
    {
     "data": {
      "image/png": "[encoded data removed]",
      "text/plain": [
       "<Figure size 1440x720 with 1 Axes>"
      ]
     },
     "metadata": {
      "needs_background": "light"
     },
     "output_type": "display_data"
    }
   ],
   "source": [
    "# Plot daily returns\n",
    "# YOUR CODE HERE\n",
    "concat_df.plot(figsize=(20,10), title=\"Daily Returns\")"
   ]
  },
  {
   "cell_type": "code",
   "execution_count": 22,
   "metadata": {},
   "outputs": [
    {
     "ename": "SyntaxError",
     "evalue": "unexpected EOF while parsing (<ipython-input-22-13294f78781f>, line 4)",
     "output_type": "error",
     "traceback": [
      "\u001b[1;36m  File \u001b[1;32m\"<ipython-input-22-13294f78781f>\"\u001b[1;36m, line \u001b[1;32m4\u001b[0m\n\u001b[1;33m    cumulative_returns.plot(figsize=(20,10), title=\"Cummulative Returns of SP500 (Past 78 Months)\"\u001b[0m\n\u001b[1;37m                                                                                                  ^\u001b[0m\n\u001b[1;31mSyntaxError\u001b[0m\u001b[1;31m:\u001b[0m unexpected EOF while parsing\n"
     ]
    }
   ],
   "source": [
    "# Plot cumulative returns\n",
    "# YOUR CODE HERE\n",
    "cumulative_returns = (1 + concat_df).cumprod() - 1\n",
    "cumulative_returns.plot(figsize=(20,10), title=\"Cummulative Returns of SP500 (Past 78 Months)\""
   ]
  },
  {
   "cell_type": "markdown",
   "metadata": {},
   "source": [
    "## Risk\n",
    "\n",
    "Determine the _risk_ of each portfolio:\n",
    "\n",
    "1. Create a box plot for each portfolio. \n",
    "2. Calculate the standard deviation for all portfolios\n",
    "4. Determine which portfolios are riskier than the S&P 500\n",
    "5. Calculate the Annualized Standard Deviation"
   ]
  },
  {
   "cell_type": "code",
   "execution_count": 23,
   "metadata": {},
   "outputs": [
    {
     "data": {
      "text/plain": [
       "<matplotlib.axes._subplots.AxesSubplot at 0x2abf4ab1388>"
      ]
     },
     "execution_count": 23,
     "metadata": {},
     "output_type": "execute_result"
    },
    {
     "data": {
      "image/png": "[encoded data removed]",
      "text/plain": [
       "<Figure size 1440x720 with 1 Axes>"
      ]
     },
     "metadata": {
      "needs_background": "light"
     },
     "output_type": "display_data"
    }
   ],
   "source": [
    "# Box plot to visually show risk\n",
    "# YOUR CODE HERE\n",
    "concat_df.plot.box(figsize=(20,10), title=\"Portfolio Risk\")"
   ]
  },
  {
   "cell_type": "code",
   "execution_count": 24,
   "metadata": {},
   "outputs": [
    {
     "data": {
      "text/plain": [
       "SOROS FUND MANAGEMENT LLC        0.007895\n",
       "PAULSON & CO.INC.                0.007023\n",
       "TIGER GLOBAL MANAGEMENT LLC      0.010894\n",
       "BERKSHIRE HATHAWAY INC           0.012919\n",
       "Algo 1                           0.007620\n",
       "Algo 2                           0.008342\n",
       "SP500                          305.852115\n",
       "dtype: float64"
      ]
     },
     "execution_count": 24,
     "metadata": {},
     "output_type": "execute_result"
    }
   ],
   "source": [
    "# Daily Standard Deviations\n",
    "# Calculate the standard deviation for each portfolio. \n",
    "# Which portfolios are riskier than the S&P 500?\n",
    "# YOUR CODE HERE\n",
    "concat_df.std()"
   ]
  },
  {
   "cell_type": "code",
   "execution_count": 27,
   "metadata": {},
   "outputs": [
    {
     "data": {
      "text/plain": [
       "SOROS FUND MANAGEMENT LLC      False\n",
       "PAULSON & CO.INC.              False\n",
       "TIGER GLOBAL MANAGEMENT LLC    False\n",
       "BERKSHIRE HATHAWAY INC         False\n",
       "Algo 1                         False\n",
       "Algo 2                         False\n",
       "SP500                          False\n",
       "dtype: bool"
      ]
     },
     "execution_count": 27,
     "metadata": {},
     "output_type": "execute_result"
    }
   ],
   "source": [
    "# Determine which portfolios are riskier than the S&P 500\n",
    "# YOUR CODE HERE\n",
    "\n",
    "# Daily standard deviatioin of S&P500\n",
    "sp500_sd = concat_df[\"SP500\"].std()\n",
    "\n",
    "# Answering the question: Which portfolios are riskier than the S&P 55?\n",
    "concat_df.std() > sp500_sd\n"
   ]
  },
  {
   "cell_type": "code",
   "execution_count": 28,
   "metadata": {},
   "outputs": [
    {
     "data": {
      "text/plain": [
       "SOROS FUND MANAGEMENT LLC         0.125335\n",
       "PAULSON & CO.INC.                 0.111488\n",
       "TIGER GLOBAL MANAGEMENT LLC       0.172936\n",
       "BERKSHIRE HATHAWAY INC            0.205077\n",
       "Algo 1                            0.120967\n",
       "Algo 2                            0.132430\n",
       "SP500                          4855.251803\n",
       "dtype: float64"
      ]
     },
     "execution_count": 28,
     "metadata": {},
     "output_type": "execute_result"
    }
   ],
   "source": [
    "# Calculate the annualized standard deviation (252 trading days)\n",
    "# YOUR CODE HERE\n",
    "annual_std = concat_df.std()*np.sqrt(252)\n",
    "annual_std"
   ]
  },
  {
   "cell_type": "markdown",
   "metadata": {},
   "source": [
    "---"
   ]
  },
  {
   "cell_type": "markdown",
   "metadata": {},
   "source": [
    "## Rolling Statistics\n",
    "\n",
    "Risk changes over time. Analyze the rolling statistics for Risk and Beta. \n",
    "\n",
    "1. Plot the rolling standard deviation of the various portfolios along with the rolling standard deviation of the S&P 500 (consider a 21 day window). Does the risk increase for each of the portfolios at the same time risk increases in the S&P?\n",
    "2. Construct a correlation table for the algorithmic, whale, and S&P 500 returns. Which returns most closely mimic the S&P?\n",
    "3. Choose one portfolio and plot a rolling beta between that portfolio's returns and S&P 500 returns. Does the portfolio seem sensitive to movements in the S&P 500?\n",
    "4. An alternative way to calculate a rolling window is to take the exponentially weighted moving average. This is like a moving window average, but it assigns greater importance to more recent observations. Try calculating the ewm with a 21 day half-life."
   ]
  },
  {
   "cell_type": "code",
   "execution_count": 32,
   "metadata": {},
   "outputs": [
    {
     "data": {
      "text/plain": [
       "<matplotlib.axes._subplots.AxesSubplot at 0x2abf341e748>"
      ]
     },
     "execution_count": 32,
     "metadata": {},
     "output_type": "execute_result"
    },
    {
     "data": {
      "image/png": "[encoded data removed]",
      "text/plain": [
       "<Figure size 1440x720 with 1 Axes>"
      ]
     },
     "metadata": {
      "needs_background": "light"
     },
     "output_type": "display_data"
    }
   ],
   "source": [
    "# Calculate and plot the rolling standard deviation for\n",
    "# the S&P 500 and whale portfolios using a 21 trading day window\n",
    "# YOUR CODE HERE\n",
    "all_roll_std = concat_df.rolling(window=21).std()\n",
    "all_roll_std.plot(figsize=(20, 10), title=\"21 Day Rolling Standard Deviation\")"
   ]
  },
  {
   "cell_type": "code",
   "execution_count": 33,
   "metadata": {},
   "outputs": [
    {
     "data": {
      "text/html": [
       "<style  type=\"text/css\" >\n",
       "    #T_44bec35a_79f0_11eb_948a_c0b883c5b68crow0_col0 {\n",
       "            background-color:  #ffff66;\n",
       "            color:  #000000;\n",
       "        }    #T_44bec35a_79f0_11eb_948a_c0b883c5b68crow0_col1 {\n",
       "            background-color:  #b0d866;\n",
       "            color:  #000000;\n",
       "        }    #T_44bec35a_79f0_11eb_948a_c0b883c5b68crow0_col2 {\n",
       "            background-color:  #94ca66;\n",
       "            color:  #000000;\n",
       "        }    #T_44bec35a_79f0_11eb_948a_c0b883c5b68crow0_col3 {\n",
       "            background-color:  #bede66;\n",
       "            color:  #000000;\n",
       "        }    #T_44bec35a_79f0_11eb_948a_c0b883c5b68crow0_col4 {\n",
       "            background-color:  #54aa66;\n",
       "            color:  #000000;\n",
       "        }    #T_44bec35a_79f0_11eb_948a_c0b883c5b68crow0_col5 {\n",
       "            background-color:  #d2e866;\n",
       "            color:  #000000;\n",
       "        }    #T_44bec35a_79f0_11eb_948a_c0b883c5b68crow0_col6 {\n",
       "            background-color:  #138966;\n",
       "            color:  #000000;\n",
       "        }    #T_44bec35a_79f0_11eb_948a_c0b883c5b68crow1_col0 {\n",
       "            background-color:  #b0d866;\n",
       "            color:  #000000;\n",
       "        }    #T_44bec35a_79f0_11eb_948a_c0b883c5b68crow1_col1 {\n",
       "            background-color:  #ffff66;\n",
       "            color:  #000000;\n",
       "        }    #T_44bec35a_79f0_11eb_948a_c0b883c5b68crow1_col2 {\n",
       "            background-color:  #75ba66;\n",
       "            color:  #000000;\n",
       "        }    #T_44bec35a_79f0_11eb_948a_c0b883c5b68crow1_col3 {\n",
       "            background-color:  #86c266;\n",
       "            color:  #000000;\n",
       "        }    #T_44bec35a_79f0_11eb_948a_c0b883c5b68crow1_col4 {\n",
       "            background-color:  #47a366;\n",
       "            color:  #000000;\n",
       "        }    #T_44bec35a_79f0_11eb_948a_c0b883c5b68crow1_col5 {\n",
       "            background-color:  #aad466;\n",
       "            color:  #000000;\n",
       "        }    #T_44bec35a_79f0_11eb_948a_c0b883c5b68crow1_col6 {\n",
       "            background-color:  #148a66;\n",
       "            color:  #000000;\n",
       "        }    #T_44bec35a_79f0_11eb_948a_c0b883c5b68crow2_col0 {\n",
       "            background-color:  #8bc566;\n",
       "            color:  #000000;\n",
       "        }    #T_44bec35a_79f0_11eb_948a_c0b883c5b68crow2_col1 {\n",
       "            background-color:  #69b466;\n",
       "            color:  #000000;\n",
       "        }    #T_44bec35a_79f0_11eb_948a_c0b883c5b68crow2_col2 {\n",
       "            background-color:  #ffff66;\n",
       "            color:  #000000;\n",
       "        }    #T_44bec35a_79f0_11eb_948a_c0b883c5b68crow2_col3 {\n",
       "            background-color:  #66b266;\n",
       "            color:  #000000;\n",
       "        }    #T_44bec35a_79f0_11eb_948a_c0b883c5b68crow2_col4 {\n",
       "            background-color:  #2c9666;\n",
       "            color:  #000000;\n",
       "        }    #T_44bec35a_79f0_11eb_948a_c0b883c5b68crow2_col5 {\n",
       "            background-color:  #7dbe66;\n",
       "            color:  #000000;\n",
       "        }    #T_44bec35a_79f0_11eb_948a_c0b883c5b68crow2_col6 {\n",
       "            background-color:  #008066;\n",
       "            color:  #f1f1f1;\n",
       "        }    #T_44bec35a_79f0_11eb_948a_c0b883c5b68crow3_col0 {\n",
       "            background-color:  #bede66;\n",
       "            color:  #000000;\n",
       "        }    #T_44bec35a_79f0_11eb_948a_c0b883c5b68crow3_col1 {\n",
       "            background-color:  #87c366;\n",
       "            color:  #000000;\n",
       "        }    #T_44bec35a_79f0_11eb_948a_c0b883c5b68crow3_col2 {\n",
       "            background-color:  #73b966;\n",
       "            color:  #000000;\n",
       "        }    #T_44bec35a_79f0_11eb_948a_c0b883c5b68crow3_col3 {\n",
       "            background-color:  #ffff66;\n",
       "            color:  #000000;\n",
       "        }    #T_44bec35a_79f0_11eb_948a_c0b883c5b68crow3_col4 {\n",
       "            background-color:  #4da666;\n",
       "            color:  #000000;\n",
       "        }    #T_44bec35a_79f0_11eb_948a_c0b883c5b68crow3_col5 {\n",
       "            background-color:  #add666;\n",
       "            color:  #000000;\n",
       "        }    #T_44bec35a_79f0_11eb_948a_c0b883c5b68crow3_col6 {\n",
       "            background-color:  #158a66;\n",
       "            color:  #000000;\n",
       "        }    #T_44bec35a_79f0_11eb_948a_c0b883c5b68crow4_col0 {\n",
       "            background-color:  #4ca666;\n",
       "            color:  #000000;\n",
       "        }    #T_44bec35a_79f0_11eb_948a_c0b883c5b68crow4_col1 {\n",
       "            background-color:  #3d9e66;\n",
       "            color:  #000000;\n",
       "        }    #T_44bec35a_79f0_11eb_948a_c0b883c5b68crow4_col2 {\n",
       "            background-color:  #339966;\n",
       "            color:  #000000;\n",
       "        }    #T_44bec35a_79f0_11eb_948a_c0b883c5b68crow4_col3 {\n",
       "            background-color:  #42a066;\n",
       "            color:  #000000;\n",
       "        }    #T_44bec35a_79f0_11eb_948a_c0b883c5b68crow4_col4 {\n",
       "            background-color:  #ffff66;\n",
       "            color:  #000000;\n",
       "        }    #T_44bec35a_79f0_11eb_948a_c0b883c5b68crow4_col5 {\n",
       "            background-color:  #42a066;\n",
       "            color:  #000000;\n",
       "        }    #T_44bec35a_79f0_11eb_948a_c0b883c5b68crow4_col6 {\n",
       "            background-color:  #088466;\n",
       "            color:  #f1f1f1;\n",
       "        }    #T_44bec35a_79f0_11eb_948a_c0b883c5b68crow5_col0 {\n",
       "            background-color:  #d2e866;\n",
       "            color:  #000000;\n",
       "        }    #T_44bec35a_79f0_11eb_948a_c0b883c5b68crow5_col1 {\n",
       "            background-color:  #aad466;\n",
       "            color:  #000000;\n",
       "        }    #T_44bec35a_79f0_11eb_948a_c0b883c5b68crow5_col2 {\n",
       "            background-color:  #87c366;\n",
       "            color:  #000000;\n",
       "        }    #T_44bec35a_79f0_11eb_948a_c0b883c5b68crow5_col3 {\n",
       "            background-color:  #acd666;\n",
       "            color:  #000000;\n",
       "        }    #T_44bec35a_79f0_11eb_948a_c0b883c5b68crow5_col4 {\n",
       "            background-color:  #4ca666;\n",
       "            color:  #000000;\n",
       "        }    #T_44bec35a_79f0_11eb_948a_c0b883c5b68crow5_col5 {\n",
       "            background-color:  #ffff66;\n",
       "            color:  #000000;\n",
       "        }    #T_44bec35a_79f0_11eb_948a_c0b883c5b68crow5_col6 {\n",
       "            background-color:  #148a66;\n",
       "            color:  #000000;\n",
       "        }    #T_44bec35a_79f0_11eb_948a_c0b883c5b68crow6_col0 {\n",
       "            background-color:  #008066;\n",
       "            color:  #f1f1f1;\n",
       "        }    #T_44bec35a_79f0_11eb_948a_c0b883c5b68crow6_col1 {\n",
       "            background-color:  #008066;\n",
       "            color:  #f1f1f1;\n",
       "        }    #T_44bec35a_79f0_11eb_948a_c0b883c5b68crow6_col2 {\n",
       "            background-color:  #008066;\n",
       "            color:  #f1f1f1;\n",
       "        }    #T_44bec35a_79f0_11eb_948a_c0b883c5b68crow6_col3 {\n",
       "            background-color:  #008066;\n",
       "            color:  #f1f1f1;\n",
       "        }    #T_44bec35a_79f0_11eb_948a_c0b883c5b68crow6_col4 {\n",
       "            background-color:  #008066;\n",
       "            color:  #f1f1f1;\n",
       "        }    #T_44bec35a_79f0_11eb_948a_c0b883c5b68crow6_col5 {\n",
       "            background-color:  #008066;\n",
       "            color:  #f1f1f1;\n",
       "        }    #T_44bec35a_79f0_11eb_948a_c0b883c5b68crow6_col6 {\n",
       "            background-color:  #ffff66;\n",
       "            color:  #000000;\n",
       "        }</style><table id=\"T_44bec35a_79f0_11eb_948a_c0b883c5b68c\" ><thead>    <tr>        <th class=\"blank level0\" ></th>        <th class=\"col_heading level0 col0\" >SOROS FUND MANAGEMENT LLC</th>        <th class=\"col_heading level0 col1\" >PAULSON & CO.INC. </th>        <th class=\"col_heading level0 col2\" >TIGER GLOBAL MANAGEMENT LLC</th>        <th class=\"col_heading level0 col3\" >BERKSHIRE HATHAWAY INC</th>        <th class=\"col_heading level0 col4\" >Algo 1</th>        <th class=\"col_heading level0 col5\" >Algo 2</th>        <th class=\"col_heading level0 col6\" >SP500</th>    </tr></thead><tbody>\n",
       "                <tr>\n",
       "                        <th id=\"T_44bec35a_79f0_11eb_948a_c0b883c5b68clevel0_row0\" class=\"row_heading level0 row0\" >SOROS FUND MANAGEMENT LLC</th>\n",
       "                        <td id=\"T_44bec35a_79f0_11eb_948a_c0b883c5b68crow0_col0\" class=\"data row0 col0\" >1</td>\n",
       "                        <td id=\"T_44bec35a_79f0_11eb_948a_c0b883c5b68crow0_col1\" class=\"data row0 col1\" >0.699914</td>\n",
       "                        <td id=\"T_44bec35a_79f0_11eb_948a_c0b883c5b68crow0_col2\" class=\"data row0 col2\" >0.561243</td>\n",
       "                        <td id=\"T_44bec35a_79f0_11eb_948a_c0b883c5b68crow0_col3\" class=\"data row0 col3\" >0.75436</td>\n",
       "                        <td id=\"T_44bec35a_79f0_11eb_948a_c0b883c5b68crow0_col4\" class=\"data row0 col4\" >0.321211</td>\n",
       "                        <td id=\"T_44bec35a_79f0_11eb_948a_c0b883c5b68crow0_col5\" class=\"data row0 col5\" >0.826873</td>\n",
       "                        <td id=\"T_44bec35a_79f0_11eb_948a_c0b883c5b68crow0_col6\" class=\"data row0 col6\" >0.0339179</td>\n",
       "            </tr>\n",
       "            <tr>\n",
       "                        <th id=\"T_44bec35a_79f0_11eb_948a_c0b883c5b68clevel0_row1\" class=\"row_heading level0 row1\" >PAULSON & CO.INC. </th>\n",
       "                        <td id=\"T_44bec35a_79f0_11eb_948a_c0b883c5b68crow1_col0\" class=\"data row1 col0\" >0.699914</td>\n",
       "                        <td id=\"T_44bec35a_79f0_11eb_948a_c0b883c5b68crow1_col1\" class=\"data row1 col1\" >1</td>\n",
       "                        <td id=\"T_44bec35a_79f0_11eb_948a_c0b883c5b68crow1_col2\" class=\"data row1 col2\" >0.434479</td>\n",
       "                        <td id=\"T_44bec35a_79f0_11eb_948a_c0b883c5b68crow1_col3\" class=\"data row1 col3\" >0.545623</td>\n",
       "                        <td id=\"T_44bec35a_79f0_11eb_948a_c0b883c5b68crow1_col4\" class=\"data row1 col4\" >0.26884</td>\n",
       "                        <td id=\"T_44bec35a_79f0_11eb_948a_c0b883c5b68crow1_col5\" class=\"data row1 col5\" >0.678152</td>\n",
       "                        <td id=\"T_44bec35a_79f0_11eb_948a_c0b883c5b68crow1_col6\" class=\"data row1 col6\" >0.0367108</td>\n",
       "            </tr>\n",
       "            <tr>\n",
       "                        <th id=\"T_44bec35a_79f0_11eb_948a_c0b883c5b68clevel0_row2\" class=\"row_heading level0 row2\" >TIGER GLOBAL MANAGEMENT LLC</th>\n",
       "                        <td id=\"T_44bec35a_79f0_11eb_948a_c0b883c5b68crow2_col0\" class=\"data row2 col0\" >0.561243</td>\n",
       "                        <td id=\"T_44bec35a_79f0_11eb_948a_c0b883c5b68crow2_col1\" class=\"data row2 col1\" >0.434479</td>\n",
       "                        <td id=\"T_44bec35a_79f0_11eb_948a_c0b883c5b68crow2_col2\" class=\"data row2 col2\" >1</td>\n",
       "                        <td id=\"T_44bec35a_79f0_11eb_948a_c0b883c5b68crow2_col3\" class=\"data row2 col3\" >0.424423</td>\n",
       "                        <td id=\"T_44bec35a_79f0_11eb_948a_c0b883c5b68crow2_col4\" class=\"data row2 col4\" >0.164387</td>\n",
       "                        <td id=\"T_44bec35a_79f0_11eb_948a_c0b883c5b68crow2_col5\" class=\"data row2 col5\" >0.507414</td>\n",
       "                        <td id=\"T_44bec35a_79f0_11eb_948a_c0b883c5b68crow2_col6\" class=\"data row2 col6\" >-0.0478227</td>\n",
       "            </tr>\n",
       "            <tr>\n",
       "                        <th id=\"T_44bec35a_79f0_11eb_948a_c0b883c5b68clevel0_row3\" class=\"row_heading level0 row3\" >BERKSHIRE HATHAWAY INC</th>\n",
       "                        <td id=\"T_44bec35a_79f0_11eb_948a_c0b883c5b68crow3_col0\" class=\"data row3 col0\" >0.75436</td>\n",
       "                        <td id=\"T_44bec35a_79f0_11eb_948a_c0b883c5b68crow3_col1\" class=\"data row3 col1\" >0.545623</td>\n",
       "                        <td id=\"T_44bec35a_79f0_11eb_948a_c0b883c5b68crow3_col2\" class=\"data row3 col2\" >0.424423</td>\n",
       "                        <td id=\"T_44bec35a_79f0_11eb_948a_c0b883c5b68crow3_col3\" class=\"data row3 col3\" >1</td>\n",
       "                        <td id=\"T_44bec35a_79f0_11eb_948a_c0b883c5b68crow3_col4\" class=\"data row3 col4\" >0.292033</td>\n",
       "                        <td id=\"T_44bec35a_79f0_11eb_948a_c0b883c5b68crow3_col5\" class=\"data row3 col5\" >0.688082</td>\n",
       "                        <td id=\"T_44bec35a_79f0_11eb_948a_c0b883c5b68crow3_col6\" class=\"data row3 col6\" >0.0415467</td>\n",
       "            </tr>\n",
       "            <tr>\n",
       "                        <th id=\"T_44bec35a_79f0_11eb_948a_c0b883c5b68clevel0_row4\" class=\"row_heading level0 row4\" >Algo 1</th>\n",
       "                        <td id=\"T_44bec35a_79f0_11eb_948a_c0b883c5b68crow4_col0\" class=\"data row4 col0\" >0.321211</td>\n",
       "                        <td id=\"T_44bec35a_79f0_11eb_948a_c0b883c5b68crow4_col1\" class=\"data row4 col1\" >0.26884</td>\n",
       "                        <td id=\"T_44bec35a_79f0_11eb_948a_c0b883c5b68crow4_col2\" class=\"data row4 col2\" >0.164387</td>\n",
       "                        <td id=\"T_44bec35a_79f0_11eb_948a_c0b883c5b68crow4_col3\" class=\"data row4 col3\" >0.292033</td>\n",
       "                        <td id=\"T_44bec35a_79f0_11eb_948a_c0b883c5b68crow4_col4\" class=\"data row4 col4\" >1</td>\n",
       "                        <td id=\"T_44bec35a_79f0_11eb_948a_c0b883c5b68crow4_col5\" class=\"data row4 col5\" >0.288243</td>\n",
       "                        <td id=\"T_44bec35a_79f0_11eb_948a_c0b883c5b68crow4_col6\" class=\"data row4 col6\" >-0.0126078</td>\n",
       "            </tr>\n",
       "            <tr>\n",
       "                        <th id=\"T_44bec35a_79f0_11eb_948a_c0b883c5b68clevel0_row5\" class=\"row_heading level0 row5\" >Algo 2</th>\n",
       "                        <td id=\"T_44bec35a_79f0_11eb_948a_c0b883c5b68crow5_col0\" class=\"data row5 col0\" >0.826873</td>\n",
       "                        <td id=\"T_44bec35a_79f0_11eb_948a_c0b883c5b68crow5_col1\" class=\"data row5 col1\" >0.678152</td>\n",
       "                        <td id=\"T_44bec35a_79f0_11eb_948a_c0b883c5b68crow5_col2\" class=\"data row5 col2\" >0.507414</td>\n",
       "                        <td id=\"T_44bec35a_79f0_11eb_948a_c0b883c5b68crow5_col3\" class=\"data row5 col3\" >0.688082</td>\n",
       "                        <td id=\"T_44bec35a_79f0_11eb_948a_c0b883c5b68crow5_col4\" class=\"data row5 col4\" >0.288243</td>\n",
       "                        <td id=\"T_44bec35a_79f0_11eb_948a_c0b883c5b68crow5_col5\" class=\"data row5 col5\" >1</td>\n",
       "                        <td id=\"T_44bec35a_79f0_11eb_948a_c0b883c5b68crow5_col6\" class=\"data row5 col6\" >0.0362671</td>\n",
       "            </tr>\n",
       "            <tr>\n",
       "                        <th id=\"T_44bec35a_79f0_11eb_948a_c0b883c5b68clevel0_row6\" class=\"row_heading level0 row6\" >SP500</th>\n",
       "                        <td id=\"T_44bec35a_79f0_11eb_948a_c0b883c5b68crow6_col0\" class=\"data row6 col0\" >0.0339179</td>\n",
       "                        <td id=\"T_44bec35a_79f0_11eb_948a_c0b883c5b68crow6_col1\" class=\"data row6 col1\" >0.0367108</td>\n",
       "                        <td id=\"T_44bec35a_79f0_11eb_948a_c0b883c5b68crow6_col2\" class=\"data row6 col2\" >-0.0478227</td>\n",
       "                        <td id=\"T_44bec35a_79f0_11eb_948a_c0b883c5b68crow6_col3\" class=\"data row6 col3\" >0.0415467</td>\n",
       "                        <td id=\"T_44bec35a_79f0_11eb_948a_c0b883c5b68crow6_col4\" class=\"data row6 col4\" >-0.0126078</td>\n",
       "                        <td id=\"T_44bec35a_79f0_11eb_948a_c0b883c5b68crow6_col5\" class=\"data row6 col5\" >0.0362671</td>\n",
       "                        <td id=\"T_44bec35a_79f0_11eb_948a_c0b883c5b68crow6_col6\" class=\"data row6 col6\" >1</td>\n",
       "            </tr>\n",
       "    </tbody></table>"
      ],
      "text/plain": [
       "<pandas.io.formats.style.Styler at 0x2abf55ea3c8>"
      ]
     },
     "execution_count": 33,
     "metadata": {},
     "output_type": "execute_result"
    }
   ],
   "source": [
    "# Construct a correlation table\n",
    "# YOUR CODE HERE\n",
    "corr_df = concat_df.corr()\n",
    "corr_df.style.background_gradient(cmap=\"summer\")"
   ]
  },
  {
   "cell_type": "code",
   "execution_count": 35,
   "metadata": {},
   "outputs": [
    {
     "data": {
      "text/plain": [
       "<matplotlib.axes._subplots.AxesSubplot at 0x2abf58f8b88>"
      ]
     },
     "execution_count": 35,
     "metadata": {},
     "output_type": "execute_result"
    },
    {
     "data": {
      "image/png": "[encoded data removed]",
      "text/plain": [
       "<Figure size 1440x720 with 1 Axes>"
      ]
     },
     "metadata": {
      "needs_background": "light"
     },
     "output_type": "display_data"
    }
   ],
   "source": [
    "# Calculate Beta for a single portfolio compared to the total market (S&P 500)\n",
    "# (Your graph may differ, dependent upon which portfolio you are comparing)\n",
    "# YOUR CODE HERE\n",
    "covariance = concat_df[\"BERKSHIRE HATHAWAY INC\"].rolling(window=60).cov(concat_df[\"SP500\"])\n",
    "variance = concat_df[\"SP500\"].rolling(60).var()\n",
    "beta = covariance / variance\n",
    "beta.plot(figsize=(20, 10), title=\"Berkshire Hathaway Inc. Beta\")"
   ]
  },
  {
   "cell_type": "code",
   "execution_count": 36,
   "metadata": {},
   "outputs": [
    {
     "data": {
      "text/plain": [
       "<matplotlib.axes._subplots.AxesSubplot at 0x2abf594f448>"
      ]
     },
     "execution_count": 36,
     "metadata": {},
     "output_type": "execute_result"
    },
    {
     "data": {
      "image/png": "[encoded data removed]",
      "text/plain": [
       "<Figure size 1440x720 with 1 Axes>"
      ]
     },
     "metadata": {
      "needs_background": "light"
     },
     "output_type": "display_data"
    }
   ],
   "source": [
    "# Calculate a rolling window using the exponentially weighted moving average. \n",
    "# YOUR CODE HERE\n",
    "concat_df.ewm(halflife=21).std().plot(figsize=(20, 10), title=\"Exponentially Weighted Average\")"
   ]
  },
  {
   "cell_type": "markdown",
   "metadata": {},
   "source": [
    "---"
   ]
  },
  {
   "cell_type": "markdown",
   "metadata": {},
   "source": [
    "## Sharpe Ratios\n",
    "In reality, investment managers and thier institutional investors look at the ratio of return-to-risk, and not just returns alone. (After all, if you could invest in one of two portfolios, each offered the same 10% return, yet one offered lower risk, you'd take that one, right?)\n",
    "\n",
    "1. Using the daily returns, calculate and visualize the Sharpe ratios using a bar plot.\n",
    "2. Determine whether the algorithmic strategies outperform both the market (S&P 500) and the whales portfolios."
   ]
  },
  {
   "cell_type": "code",
   "execution_count": 38,
   "metadata": {},
   "outputs": [
    {
     "data": {
      "text/plain": [
       "SOROS FUND MANAGEMENT LLC        0.356417\n",
       "PAULSON & CO.INC.               -0.483570\n",
       "TIGER GLOBAL MANAGEMENT LLC     -0.121060\n",
       "BERKSHIRE HATHAWAY INC           0.621810\n",
       "Algo 1                           1.378648\n",
       "Algo 2                           0.501364\n",
       "SP500                          123.476112\n",
       "dtype: float64"
      ]
     },
     "execution_count": 38,
     "metadata": {},
     "output_type": "execute_result"
    }
   ],
   "source": [
    "# Calculate annualized Sharpe Ratios\n",
    "# YOUR CODE HERE\n",
    "sharpe_ratios = (concat_df.mean() * 252) / (concat_df.std() * np.sqrt(252))\n",
    "sharpe_ratios\n"
   ]
  },
  {
   "cell_type": "code",
   "execution_count": 39,
   "metadata": {},
   "outputs": [
    {
     "data": {
      "text/plain": [
       "<matplotlib.axes._subplots.AxesSubplot at 0x2abf5984f08>"
      ]
     },
     "execution_count": 39,
     "metadata": {},
     "output_type": "execute_result"
    },
    {
     "data": {
      "image/png": "[encoded data removed]",
      "text/plain": [
       "<Figure size 432x288 with 1 Axes>"
      ]
     },
     "metadata": {
      "needs_background": "light"
     },
     "output_type": "display_data"
    }
   ],
   "source": [
    "# Visualize the sharpe ratios as a bar plot\n",
    "# YOUR CODE HERE\n",
    "sharpe_ratios.plot(kind=\"bar\", title=\"Sharpe Ratios\")"
   ]
  },
  {
   "cell_type": "markdown",
   "metadata": {},
   "source": [
    "On the basis of this performance metric, do our algo strategies outperform both 'the market' and the whales? Type your answer here:"
   ]
  },
  {
   "cell_type": "markdown",
   "metadata": {},
   "source": [
    "---"
   ]
  },
  {
   "cell_type": "markdown",
   "metadata": {},
   "source": [
    "# Portfolio Returns\n",
    "\n",
    "In this section, you will build your own portfolio of stocks, calculate the returns, and compare the results to the Whale Portfolios and the S&P 500. \n",
    "\n",
    "1. Visit [Google Sheets](https://docs.google.com/spreadsheets/) and use the in-built Google Finance function to choose 3-5 stocks for your own portfolio.\n",
    "2. Download the data as CSV files and calculate the portfolio returns.\n",
    "3. Calculate the returns for each stock.\n",
    "4. Using those returns, calculate the weighted returns for your entire portfolio assuming an equal number of shares for each stock.\n",
    "5. Add your portfolio returns to the DataFrame with the other portfolios and rerun the analysis. How does your portfolio fair?\n",
    "\n",
    "\n",
    "## Your analysis should include the following:\n",
    "\n",
    "- Using all portfolios:\n",
    " - The annualized standard deviation (252 trading days) for all portfolios.\n",
    " - The plotted rolling standard deviation using a 21 trading day window for all portfolios.\n",
    " - The calculated annualized Sharpe Ratios and the accompanying bar plot visualization.\n",
    " - A correlation table.\n",
    "- Using your custom portfolio and one other of your choosing:\n",
    " - The plotted beta. "
   ]
  },
  {
   "cell_type": "markdown",
   "metadata": {},
   "source": [
    "## Choose 3-5 custom stocks with at last 1 year's worth of historic prices and create a DataFrame of the closing prices and dates for each stock."
   ]
  },
  {
   "cell_type": "code",
   "execution_count": 42,
   "metadata": {},
   "outputs": [],
   "source": [
    "# Read the first stock\n",
    "# YOUR CODE HERE\n",
    "google_historical_csv = Path(\"Resources/goog_historical.csv\")\n",
    "google_historical = pd.read_csv(\n",
    "    google_historical_csv, index_col=\"Trade DATE\", infer_datetime_format=True, parse_dates=True)\n",
    "google_historical = google_historical.sort_index()\n",
    "google_historical.head()"
   ]
  },
  {
   "cell_type": "code",
   "execution_count": null,
   "metadata": {},
   "outputs": [],
   "source": [
    "# Read the second stock\n",
    "# YOUR CODE HERE\n",
    "apple_historical_csv = Path(\"Resources/aapl_historical.csv\")\n",
    "apple_historical = pd.read_csv(\n",
    "    apple_historical_csv, index_col=\"Trade DATE\", infer_datetime_format=True, parse_dates=True)\n",
    "apple_historical = apple_historical.sort_index()\n",
    "apple_historical.head()"
   ]
  },
  {
   "cell_type": "code",
   "execution_count": null,
   "metadata": {},
   "outputs": [],
   "source": [
    "# Read the third stock\n",
    "# YOUR CODE HERE\n",
    "costco_historical_csv = Path(\"Resources/cost_historical.csv\")\n",
    "costco_historical = pd.read_csv(\n",
    "    costco_historical_csv, index_col=\"Trade DATE\", infer_datetime_format=True, parse_dates=True)\n",
    "costco_historical = costco_historical.sort_index()\n",
    "costco_historical.head()"
   ]
  },
  {
   "cell_type": "code",
   "execution_count": null,
   "metadata": {},
   "outputs": [],
   "source": [
    "# Concatenate all stocks into a single DataFrame\n",
    "# YOUR CODE HERE\n",
    "all_stocks = pd.concat([google_historical, apple_historical, costco_historical], axis=\"rows\", join=\"inner\")\n",
    "all_stocks.head()"
   ]
  },
  {
   "cell_type": "code",
   "execution_count": null,
   "metadata": {},
   "outputs": [],
   "source": [
    "# Reset the index\n",
    "# YOUR CODE HERE\n",
    "all_stocks = all_stocks.reset_index()\n",
    "all_stocks.head()"
   ]
  },
  {
   "cell_type": "code",
   "execution_count": null,
   "metadata": {},
   "outputs": [],
   "source": [
    "# Pivot so that each column of prices represents a unique symbol\n",
    "# YOUR CODE HERE\n",
    "portfolio = all_stocks.pivot_table(values=\"NOCP\", index=\"Trade DATE\", columns=\"Symbol\")\n",
    "portfolio.head()"
   ]
  },
  {
   "cell_type": "code",
   "execution_count": null,
   "metadata": {},
   "outputs": [],
   "source": [
    "# Drop Nulls\n",
    "# YOUR CODE HERE\n",
    "\n",
    "#Daily Returns\n",
    "daily_returns = portfolio.pct_change()\n",
    "\n",
    "#Dropping NAs\n",
    "daily_returns = daily_returns.dropna().copy()\n",
    "\n",
    "#Displaying sample data\n",
    "daily_returns.head()"
   ]
  },
  {
   "cell_type": "markdown",
   "metadata": {},
   "source": [
    "## Calculate the weighted returns for the portfolio assuming an equal number of shares for each stock"
   ]
  },
  {
   "cell_type": "code",
   "execution_count": null,
   "metadata": {},
   "outputs": [],
   "source": [
    "# Calculate weighted portfolio returns\n",
    "weights = [1/3, 1/3, 1/3]\n",
    "# YOUR CODE HERE\n",
    "\n",
    "#Portfolio return\n",
    "portfolio_returns = daily_returns.dot(weights)\n",
    "portfolio_returns.head()"
   ]
  },
  {
   "cell_type": "markdown",
   "metadata": {},
   "source": [
    "## Join your portfolio returns to the DataFrame that contains all of the portfolio returns"
   ]
  },
  {
   "cell_type": "code",
   "execution_count": null,
   "metadata": {
    "scrolled": true
   },
   "outputs": [],
   "source": [
    "# Add your \"Custom\" portfolio to the larger dataframe of fund returns\n",
    "# YOUR CODE HERE\n",
    "conacat_df[\"Custom\"] = portfolio_returns\n",
    "concat_df.tail()"
   ]
  },
  {
   "cell_type": "code",
   "execution_count": null,
   "metadata": {},
   "outputs": [],
   "source": [
    "# Only compare dates where return data exists for all the stocks (drop NaNs)\n",
    "# YOUR CODE HERE\n",
    "concat_df = concat_df.dropna().copy()"
   ]
  },
  {
   "cell_type": "markdown",
   "metadata": {},
   "source": [
    "## Re-run the performance and risk analysis with your portfolio to see how it compares to the others"
   ]
  },
  {
   "cell_type": "code",
   "execution_count": null,
   "metadata": {},
   "outputs": [],
   "source": [
    "# Risk\n",
    "# YOUR CODE HERE\n",
    "risk = concat_df.std() * np.sqrt(252)\n",
    "risk"
   ]
  },
  {
   "cell_type": "code",
   "execution_count": null,
   "metadata": {},
   "outputs": [],
   "source": [
    "# Rolling\n",
    "# YOUR CODE HERE\n",
    "rolling_std_dev = concat_df.rolling(window=21).std()\n",
    "rolling_std_dev.plot(figsize=(20, 10), title=\"21 Day Rolling Standard Deviation\")"
   ]
  },
  {
   "cell_type": "code",
   "execution_count": null,
   "metadata": {},
   "outputs": [],
   "source": [
    "# Annualized Sharpe Ratios\n",
    "# YOUR CODE HERE\n",
    "sharpe_ratios = (concat_df.mean() * 252) / (concat_df.std() * np.sqrt(252))\n",
    "sharpe_ratios"
   ]
  },
  {
   "cell_type": "code",
   "execution_count": null,
   "metadata": {},
   "outputs": [],
   "source": [
    "# Visualize the sharpe ratios as a bar plot\n",
    "# YOUR CODE HERE\n",
    "sharpe_ratios.plot(kind=\"bar\", title=\"Sharpe Ratios\")"
   ]
  },
  {
   "cell_type": "code",
   "execution_count": null,
   "metadata": {},
   "outputs": [],
   "source": [
    "# Create a correlation analysis\n",
    "# YOUR CODE HERE\n",
    "df = concat_df.corr()\n",
    "df.style.background_gradient(cmap=\"bwr\")"
   ]
  },
  {
   "cell_type": "code",
   "execution_count": null,
   "metadata": {},
   "outputs": [],
   "source": [
    "# Beta\n",
    "# YOUR CODE HERE\n",
    "covariance = concat_df[\"Custom\"].rolling(window=60).cov(all_portfolios[\"S&P 500\"])\n",
    "variance = concat_df[\"S&P 500\"].rolling(60).var()\n",
    "beta = (covariance / variance)\n",
    "beta.plot(figsize=(20, 10), title=\"Custom Portfolio Beta\")"
   ]
  }
 ],
 "metadata": {
  "file_extension": ".py",
  "kernelspec": {
   "display_name": "Python [conda env:dev] *",
   "language": "python",
   "name": "conda-env-dev-py"
  },
  "language_info": {
   "codemirror_mode": {
    "name": "ipython",
    "version": 3
   },
   "file_extension": ".py",
   "mimetype": "text/x-python",
   "name": "python",
   "nbconvert_exporter": "python",
   "pygments_lexer": "ipython3",
   "version": "3.7.9"
  },
  "mimetype": "text/x-python",
  "name": "python",
  "npconvert_exporter": "python",
  "pygments_lexer": "ipython3",
  "version": 3
 },
 "nbformat": 4,
 "nbformat_minor": 4
}
